{
 "cells": [
  {
   "cell_type": "markdown",
   "metadata": {},
   "source": [
    "# Climate Data Analysis\n",
    "## P L M W T P Jayasinghe\n",
    "## BIT Index Number - E2340511\n",
    "\n",
    "Time Series Data Analysis on Climate data from 1983 to 2008"
   ]
  },
  {
   "cell_type": "markdown",
   "metadata": {},
   "source": [
    "### Importing Required Libraries"
   ]
  },
  {
   "cell_type": "code",
   "execution_count": 4,
   "metadata": {},
   "outputs": [],
   "source": [
    "import pandas as pd\n",
    "import numpy as np\n",
    "import matplotlib.pyplot as plt\n",
    "import seaborn as sns\n",
    "from datetime import datetime,timedelta\n",
    "from statsmodels.tsa.seasonal import seasonal_decompose\n",
    "%matplotlib inline\n",
    "import warnings\n",
    "warnings.filterwarnings('ignore')"
   ]
  },
  {
   "cell_type": "markdown",
   "metadata": {},
   "source": [
    "### Importing data set"
   ]
  },
  {
   "cell_type": "code",
   "execution_count": 5,
   "metadata": {},
   "outputs": [],
   "source": [
    "df = pd.read_csv('climate_change.csv')"
   ]
  },
  {
   "cell_type": "code",
   "execution_count": 6,
   "metadata": {},
   "outputs": [
    {
     "data": {
      "text/html": [
       "<div>\n",
       "<style scoped>\n",
       "    .dataframe tbody tr th:only-of-type {\n",
       "        vertical-align: middle;\n",
       "    }\n",
       "\n",
       "    .dataframe tbody tr th {\n",
       "        vertical-align: top;\n",
       "    }\n",
       "\n",
       "    .dataframe thead th {\n",
       "        text-align: right;\n",
       "    }\n",
       "</style>\n",
       "<table border=\"1\" class=\"dataframe\">\n",
       "  <thead>\n",
       "    <tr style=\"text-align: right;\">\n",
       "      <th></th>\n",
       "      <th>Year</th>\n",
       "      <th>Month</th>\n",
       "      <th>MEI</th>\n",
       "      <th>CO2</th>\n",
       "      <th>CH4</th>\n",
       "      <th>N2O</th>\n",
       "      <th>CFC-11</th>\n",
       "      <th>CFC-12</th>\n",
       "      <th>TSI</th>\n",
       "      <th>Aerosols</th>\n",
       "      <th>Temp</th>\n",
       "    </tr>\n",
       "  </thead>\n",
       "  <tbody>\n",
       "    <tr>\n",
       "      <th>0</th>\n",
       "      <td>1983</td>\n",
       "      <td>5</td>\n",
       "      <td>2.556</td>\n",
       "      <td>345.96</td>\n",
       "      <td>1638.59</td>\n",
       "      <td>303.677</td>\n",
       "      <td>191.324</td>\n",
       "      <td>350.113</td>\n",
       "      <td>1366.1024</td>\n",
       "      <td>0.0863</td>\n",
       "      <td>0.109</td>\n",
       "    </tr>\n",
       "    <tr>\n",
       "      <th>1</th>\n",
       "      <td>1983</td>\n",
       "      <td>6</td>\n",
       "      <td>2.167</td>\n",
       "      <td>345.52</td>\n",
       "      <td>1633.71</td>\n",
       "      <td>303.746</td>\n",
       "      <td>192.057</td>\n",
       "      <td>351.848</td>\n",
       "      <td>1366.1208</td>\n",
       "      <td>0.0794</td>\n",
       "      <td>0.118</td>\n",
       "    </tr>\n",
       "    <tr>\n",
       "      <th>2</th>\n",
       "      <td>1983</td>\n",
       "      <td>7</td>\n",
       "      <td>1.741</td>\n",
       "      <td>344.15</td>\n",
       "      <td>1633.22</td>\n",
       "      <td>303.795</td>\n",
       "      <td>192.818</td>\n",
       "      <td>353.725</td>\n",
       "      <td>1366.2850</td>\n",
       "      <td>0.0731</td>\n",
       "      <td>0.137</td>\n",
       "    </tr>\n",
       "    <tr>\n",
       "      <th>3</th>\n",
       "      <td>1983</td>\n",
       "      <td>8</td>\n",
       "      <td>1.130</td>\n",
       "      <td>342.25</td>\n",
       "      <td>1631.35</td>\n",
       "      <td>303.839</td>\n",
       "      <td>193.602</td>\n",
       "      <td>355.633</td>\n",
       "      <td>1366.4202</td>\n",
       "      <td>0.0673</td>\n",
       "      <td>0.176</td>\n",
       "    </tr>\n",
       "    <tr>\n",
       "      <th>4</th>\n",
       "      <td>1983</td>\n",
       "      <td>9</td>\n",
       "      <td>0.428</td>\n",
       "      <td>340.17</td>\n",
       "      <td>1648.40</td>\n",
       "      <td>303.901</td>\n",
       "      <td>194.392</td>\n",
       "      <td>357.465</td>\n",
       "      <td>1366.2335</td>\n",
       "      <td>0.0619</td>\n",
       "      <td>0.149</td>\n",
       "    </tr>\n",
       "  </tbody>\n",
       "</table>\n",
       "</div>"
      ],
      "text/plain": [
       "   Year  Month    MEI     CO2      CH4      N2O   CFC-11   CFC-12        TSI  \\\n",
       "0  1983      5  2.556  345.96  1638.59  303.677  191.324  350.113  1366.1024   \n",
       "1  1983      6  2.167  345.52  1633.71  303.746  192.057  351.848  1366.1208   \n",
       "2  1983      7  1.741  344.15  1633.22  303.795  192.818  353.725  1366.2850   \n",
       "3  1983      8  1.130  342.25  1631.35  303.839  193.602  355.633  1366.4202   \n",
       "4  1983      9  0.428  340.17  1648.40  303.901  194.392  357.465  1366.2335   \n",
       "\n",
       "   Aerosols   Temp  \n",
       "0    0.0863  0.109  \n",
       "1    0.0794  0.118  \n",
       "2    0.0731  0.137  \n",
       "3    0.0673  0.176  \n",
       "4    0.0619  0.149  "
      ]
     },
     "execution_count": 6,
     "metadata": {},
     "output_type": "execute_result"
    }
   ],
   "source": [
    "df.head()"
   ]
  },
  {
   "cell_type": "code",
   "execution_count": 7,
   "metadata": {},
   "outputs": [
    {
     "data": {
      "text/plain": [
       "Year          int64\n",
       "Month         int64\n",
       "MEI         float64\n",
       "CO2         float64\n",
       "CH4         float64\n",
       "N2O         float64\n",
       "CFC-11      float64\n",
       "CFC-12      float64\n",
       "TSI         float64\n",
       "Aerosols    float64\n",
       "Temp        float64\n",
       "dtype: object"
      ]
     },
     "execution_count": 7,
     "metadata": {},
     "output_type": "execute_result"
    }
   ],
   "source": [
    "df.dtypes"
   ]
  },
  {
   "cell_type": "code",
   "execution_count": 9,
   "metadata": {},
   "outputs": [
    {
     "data": {
      "text/plain": [
       "(308, 11)"
      ]
     },
     "execution_count": 9,
     "metadata": {},
     "output_type": "execute_result"
    }
   ],
   "source": [
    "df.shape"
   ]
  },
  {
   "cell_type": "code",
   "execution_count": 12,
   "metadata": {},
   "outputs": [
    {
     "data": {
      "text/plain": [
       "Year        0\n",
       "Month       0\n",
       "MEI         0\n",
       "CO2         0\n",
       "CH4         0\n",
       "N2O         0\n",
       "CFC-11      0\n",
       "CFC-12      0\n",
       "TSI         0\n",
       "Aerosols    0\n",
       "Temp        0\n",
       "dtype: int64"
      ]
     },
     "execution_count": 12,
     "metadata": {},
     "output_type": "execute_result"
    }
   ],
   "source": [
    "df.isnull().sum()"
   ]
  },
  {
   "cell_type": "markdown",
   "metadata": {},
   "source": [
    "### Creating Year Month Object"
   ]
  },
  {
   "cell_type": "code",
   "execution_count": 15,
   "metadata": {},
   "outputs": [],
   "source": [
    "df['YearMonth']=df['Year'].astype(str)+'-'+df['Month'].astype(str)"
   ]
  },
  {
   "cell_type": "code",
   "execution_count": 18,
   "metadata": {},
   "outputs": [
    {
     "data": {
      "text/plain": [
       "Year           int64\n",
       "Month          int64\n",
       "MEI          float64\n",
       "CO2          float64\n",
       "CH4          float64\n",
       "N2O          float64\n",
       "CFC-11       float64\n",
       "CFC-12       float64\n",
       "TSI          float64\n",
       "Aerosols     float64\n",
       "Temp         float64\n",
       "YearMonth     object\n",
       "dtype: object"
      ]
     },
     "execution_count": 18,
     "metadata": {},
     "output_type": "execute_result"
    }
   ],
   "source": [
    "df.isnull().sum()\n",
    "df.dtypes"
   ]
  },
  {
   "cell_type": "markdown",
   "metadata": {},
   "source": [
    "### Dropping Year and Month Column and Reorgernizing the data set"
   ]
  },
  {
   "cell_type": "code",
   "execution_count": null,
   "metadata": {},
   "outputs": [
    {
     "data": {
      "text/plain": [
       "YearMonth     object\n",
       "MEI          float64\n",
       "CO2          float64\n",
       "CH4          float64\n",
       "N2O          float64\n",
       "CFC-11       float64\n",
       "CFC-12       float64\n",
       "TSI          float64\n",
       "Aerosols     float64\n",
       "Temp         float64\n",
       "dtype: object"
      ]
     },
     "execution_count": 31,
     "metadata": {},
     "output_type": "execute_result"
    }
   ],
   "source": [
    "df_Cleaned=df.drop(columns=['Year','Month'])\n",
    "# shift column 'Name' to first position \n",
    "first_column = df_Cleaned.pop('YearMonth')\n",
    "# Now insert it to the first position\n",
    "df_Cleaned.insert(0,'YearMonth',first_column)\n",
    "df_Cleaned.dtypes\n",
    "  \n",
    "\n",
    "\n"
   ]
  },
  {
   "cell_type": "code",
   "execution_count": null,
   "metadata": {},
   "outputs": [
    {
     "data": {
      "text/plain": [
       "DatetimeIndex(['1983-05-01', '1983-06-01', '1983-07-01', '1983-08-01',\n",
       "               '1983-09-01', '1983-10-01', '1983-11-01', '1983-12-01',\n",
       "               '1984-01-01', '1984-02-01',\n",
       "               ...\n",
       "               '2008-03-01', '2008-04-01', '2008-05-01', '2008-06-01',\n",
       "               '2008-07-01', '2008-08-01', '2008-09-01', '2008-10-01',\n",
       "               '2008-11-01', '2008-12-01'],\n",
       "              dtype='datetime64[ns]', name='YearMonth', length=308, freq=None)"
      ]
     },
     "execution_count": 35,
     "metadata": {},
     "output_type": "execute_result"
    }
   ],
   "source": [
    "df_Cleaned['YearMonth']=pd.to_datetime(df_Cleaned['YearMonth'])\n",
    "df_Cleaned.set_index('YearMonth',inplace=True)\n",
    "df_Cleaned.index\n"
   ]
  },
  {
   "cell_type": "code",
   "execution_count": 39,
   "metadata": {},
   "outputs": [
    {
     "data": {
      "text/plain": [
       "<bound method NDFrame.head of               MEI     CO2      CH4      N2O   CFC-11   CFC-12        TSI  \\\n",
       "YearMonth                                                                  \n",
       "1983-05-01  2.556  345.96  1638.59  303.677  191.324  350.113  1366.1024   \n",
       "1983-06-01  2.167  345.52  1633.71  303.746  192.057  351.848  1366.1208   \n",
       "1983-07-01  1.741  344.15  1633.22  303.795  192.818  353.725  1366.2850   \n",
       "1983-08-01  1.130  342.25  1631.35  303.839  193.602  355.633  1366.4202   \n",
       "1983-09-01  0.428  340.17  1648.40  303.901  194.392  357.465  1366.2335   \n",
       "...           ...     ...      ...      ...      ...      ...        ...   \n",
       "2008-08-01 -0.266  384.15  1779.88  321.405  244.200  535.072  1365.6570   \n",
       "2008-09-01 -0.643  383.09  1795.08  321.529  244.083  535.048  1365.6647   \n",
       "2008-10-01 -0.780  382.99  1814.18  321.796  244.080  534.927  1365.6759   \n",
       "2008-11-01 -0.621  384.13  1812.37  322.013  244.225  534.906  1365.7065   \n",
       "2008-12-01 -0.666  385.56  1812.88  322.182  244.204  535.005  1365.6926   \n",
       "\n",
       "            Aerosols   Temp  \n",
       "YearMonth                    \n",
       "1983-05-01    0.0863  0.109  \n",
       "1983-06-01    0.0794  0.118  \n",
       "1983-07-01    0.0731  0.137  \n",
       "1983-08-01    0.0673  0.176  \n",
       "1983-09-01    0.0619  0.149  \n",
       "...              ...    ...  \n",
       "2008-08-01    0.0036  0.407  \n",
       "2008-09-01    0.0043  0.378  \n",
       "2008-10-01    0.0046  0.440  \n",
       "2008-11-01    0.0048  0.394  \n",
       "2008-12-01    0.0046  0.330  \n",
       "\n",
       "[308 rows x 9 columns]>"
      ]
     },
     "execution_count": 39,
     "metadata": {},
     "output_type": "execute_result"
    }
   ],
   "source": [
    "df_Cleaned.head"
   ]
  }
 ],
 "metadata": {
  "kernelspec": {
   "display_name": "Python 3",
   "language": "python",
   "name": "python3"
  },
  "language_info": {
   "codemirror_mode": {
    "name": "ipython",
    "version": 3
   },
   "file_extension": ".py",
   "mimetype": "text/x-python",
   "name": "python",
   "nbconvert_exporter": "python",
   "pygments_lexer": "ipython3",
   "version": "3.13.0"
  }
 },
 "nbformat": 4,
 "nbformat_minor": 2
}
